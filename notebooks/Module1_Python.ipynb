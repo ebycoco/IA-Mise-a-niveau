{
 "cells": [
  {
   "cell_type": "markdown",
   "id": "72b71bae",
   "metadata": {},
   "source": [
    "# Types et opérations de base\n",
    "\n",
    "*Date : 2 août 2025*\n",
    "\n",
    "\n",
    "**Objectif** : maîtriser les types natifs Python et les opérations élémentaires."
   ]
  },
  {
   "cell_type": "code",
   "execution_count": 1,
   "id": "9677c1f5",
   "metadata": {},
   "outputs": [
    {
     "name": "stdout",
     "output_type": "stream",
     "text": [
      "25°C = 77.0°F\n"
     ]
    }
   ],
   "source": [
    "# Formule : F = C * 9/5 + 32\n",
    "C = 25\n",
    "F = C * 9/5 + 32\n",
    "print(f\"{C}°C = {F}°F\")\n"
   ]
  },
  {
   "cell_type": "code",
   "execution_count": 3,
   "id": "59d830b8",
   "metadata": {},
   "outputs": [
    {
     "name": "stdout",
     "output_type": "stream",
     "text": [
      "Bonjour, BROU YAO ERIC !\n"
     ]
    }
   ],
   "source": [
    "first_name=\"YAO ERIC\"\n",
    "last_name=\"BROU\"\n",
    "print(f\"Bonjour, {last_name} {first_name} !\")"
   ]
  },
  {
   "cell_type": "markdown",
   "id": "3bb09322",
   "metadata": {},
   "source": [
    "### correction"
   ]
  },
  {
   "cell_type": "code",
   "execution_count": 5,
   "id": "f5a262ea",
   "metadata": {},
   "outputs": [
    {
     "name": "stdout",
     "output_type": "stream",
     "text": [
      "Bonjour, YAO ERIC BROU !\n"
     ]
    }
   ],
   "source": [
    "first_name = \"YAO ERIC\"\n",
    "last_name  = \"BROU\"\n",
    "\n",
    "# 1. f-string (la plus lisible)\n",
    "print(f\"Bonjour, {first_name} {last_name} !\")\n",
    "\n",
    "\n"
   ]
  },
  {
   "cell_type": "code",
   "execution_count": 6,
   "id": "b6a1221a",
   "metadata": {},
   "outputs": [
    {
     "name": "stdout",
     "output_type": "stream",
     "text": [
      "Bonjour, YAO ERIC BROU !\n"
     ]
    }
   ],
   "source": [
    "# 2. str.format()\n",
    "print(\"Bonjour, {} {} !\".format(first_name, last_name))\n",
    "\n"
   ]
  },
  {
   "cell_type": "code",
   "execution_count": 7,
   "id": "19428df3",
   "metadata": {},
   "outputs": [
    {
     "name": "stdout",
     "output_type": "stream",
     "text": [
      "Bonjour, YAO ERIC BROU !\n"
     ]
    }
   ],
   "source": [
    "# 3. concaténation classique\n",
    "print(\"Bonjour, \" + first_name + \" \" + last_name + \" !\")"
   ]
  },
  {
   "cell_type": "markdown",
   "id": "b8027e78",
   "metadata": {},
   "source": [
    "# Structures de contrôle\n",
    "\n",
    "*Date : 3 août 2025*\n",
    "\n",
    "\n",
    "**Objectif** : maîtriser les instructions conditionnelles et les boucles."
   ]
  },
  {
   "cell_type": "markdown",
   "id": "8d0cb123",
   "metadata": {},
   "source": [
    "Instructions conditionnelles"
   ]
  },
  {
   "cell_type": "code",
   "execution_count": 14,
   "id": "5e1af633",
   "metadata": {},
   "outputs": [
    {
     "name": "stdout",
     "output_type": "stream",
     "text": [
      "x est positif\n"
     ]
    }
   ],
   "source": [
    "x = 5\n",
    "if x < 0:\n",
    "    print(\"x est négatif\")\n",
    "elif x == 0:\n",
    "    print(\"x est nul\")\n",
    "else:\n",
    "    print(\"x est positif\")\n"
   ]
  },
  {
   "cell_type": "code",
   "execution_count": 15,
   "id": "02fd5d13",
   "metadata": {},
   "outputs": [
    {
     "name": "stdout",
     "output_type": "stream",
     "text": [
      "x est nul\n"
     ]
    }
   ],
   "source": [
    "x = 0\n",
    "if x < 0:\n",
    "    print(\"x est négatif\")\n",
    "elif x == 0:\n",
    "    print(\"x est nul\")\n",
    "else:\n",
    "    print(\"x est positif\")\n"
   ]
  },
  {
   "cell_type": "code",
   "execution_count": 16,
   "id": "6e1dfe84",
   "metadata": {},
   "outputs": [
    {
     "name": "stdout",
     "output_type": "stream",
     "text": [
      "x est négatif\n"
     ]
    }
   ],
   "source": [
    "x = -5\n",
    "if x < 0:\n",
    "    print(\"x est négatif\")\n",
    "elif x == 0:\n",
    "    print(\"x est nul\")\n",
    "else:\n",
    "    print(\"x est positif\")\n"
   ]
  },
  {
   "cell_type": "markdown",
   "id": "bbf4b29b",
   "metadata": {},
   "source": [
    "Boucles while"
   ]
  },
  {
   "cell_type": "code",
   "execution_count": 17,
   "id": "b9d7008d",
   "metadata": {},
   "outputs": [
    {
     "name": "stdout",
     "output_type": "stream",
     "text": [
      "Il reste 3\n",
      "Il reste 2\n",
      "Il reste 1\n",
      "C’est fini !\n"
     ]
    }
   ],
   "source": [
    "compteur = 3\n",
    "while compteur > 0:\n",
    "    print(\"Il reste\", compteur)\n",
    "    compteur -= 1\n",
    "print(\"C’est fini !\")\n"
   ]
  },
  {
   "cell_type": "markdown",
   "id": "efa0f235",
   "metadata": {},
   "source": [
    "### Exercice 1 : Table de multiplication"
   ]
  },
  {
   "cell_type": "code",
   "execution_count": 28,
   "id": "ee253bd4",
   "metadata": {},
   "outputs": [],
   "source": [
    "def table(n):\n",
    "    print(f\"la table de {n}\")\n",
    "    t=1\n",
    "    while t <= 10:\n",
    "        p = n * t\n",
    "        print(f\"{n} x {t} = {p}\")\n",
    "        t +=1"
   ]
  },
  {
   "cell_type": "code",
   "execution_count": 29,
   "id": "b3776458",
   "metadata": {},
   "outputs": [
    {
     "name": "stdout",
     "output_type": "stream",
     "text": [
      "la table de 4\n",
      "4 x 1 = 4\n",
      "4 x 2 = 8\n",
      "4 x 3 = 12\n",
      "4 x 4 = 16\n",
      "4 x 5 = 20\n",
      "4 x 6 = 24\n",
      "4 x 7 = 28\n",
      "4 x 8 = 32\n",
      "4 x 9 = 36\n",
      "4 x 10 = 40\n"
     ]
    }
   ],
   "source": [
    "table(4)"
   ]
  },
  {
   "cell_type": "code",
   "execution_count": 30,
   "id": "413f2225",
   "metadata": {},
   "outputs": [
    {
     "name": "stdout",
     "output_type": "stream",
     "text": [
      "la table de 9\n",
      "9 x 1 = 9\n",
      "9 x 2 = 18\n",
      "9 x 3 = 27\n",
      "9 x 4 = 36\n",
      "9 x 5 = 45\n",
      "9 x 6 = 54\n",
      "9 x 7 = 63\n",
      "9 x 8 = 72\n",
      "9 x 9 = 81\n",
      "9 x 10 = 90\n"
     ]
    }
   ],
   "source": [
    "table(9)"
   ]
  },
  {
   "cell_type": "code",
   "execution_count": 31,
   "id": "dcd3d053",
   "metadata": {},
   "outputs": [
    {
     "name": "stdout",
     "output_type": "stream",
     "text": [
      "la table de 7\n",
      "7 x 1 = 7\n",
      "7 x 2 = 14\n",
      "7 x 3 = 21\n",
      "7 x 4 = 28\n",
      "7 x 5 = 35\n",
      "7 x 6 = 42\n",
      "7 x 7 = 49\n",
      "7 x 8 = 56\n",
      "7 x 9 = 63\n",
      "7 x 10 = 70\n"
     ]
    }
   ],
   "source": [
    "table(7)"
   ]
  },
  {
   "cell_type": "markdown",
   "id": "6258758c",
   "metadata": {},
   "source": [
    "#### Voici une version “corrigée” et améliorée de la fonction :"
   ]
  },
  {
   "cell_type": "code",
   "execution_count": 38,
   "id": "2d2ba85c",
   "metadata": {},
   "outputs": [],
   "source": [
    "def tables(n):\n",
    "    \"\"\"\n",
    "    Affiche la table de multiplication de n de 1 à 10.\n",
    "    \"\"\"\n",
    "    print(f\"Table de multiplication de {n} :\")\n",
    "    for i in range(1, 11):\n",
    "        produit = n * i\n",
    "        print(f\"{n} x {i} = {produit}\")\n"
   ]
  },
  {
   "cell_type": "code",
   "execution_count": 39,
   "id": "a5db3de2",
   "metadata": {},
   "outputs": [
    {
     "name": "stdout",
     "output_type": "stream",
     "text": [
      "Table de multiplication de 6 :\n",
      "6 x 1 = 6\n",
      "6 x 2 = 12\n",
      "6 x 3 = 18\n",
      "6 x 4 = 24\n",
      "6 x 5 = 30\n",
      "6 x 6 = 36\n",
      "6 x 7 = 42\n",
      "6 x 8 = 48\n",
      "6 x 9 = 54\n",
      "6 x 10 = 60\n"
     ]
    }
   ],
   "source": [
    "tables(6)"
   ]
  },
  {
   "cell_type": "code",
   "execution_count": 43,
   "id": "86e45a11",
   "metadata": {},
   "outputs": [],
   "source": [
    "def tabless(n):\n",
    "    \"\"\"\n",
    "    Construit et renvoie la liste de la table de multiplication de n de 1 à 10,\n",
    "    et l'affiche dans la console.\n",
    "    \"\"\"\n",
    "    resultats = []\n",
    "    print(f\"Table de multiplication de {n} :\")\n",
    "    for i in range(1, 11):\n",
    "        produit = n * i\n",
    "        resultats.append(produit)\n",
    "        print(f\"{n} x {i} = {produit}\")\n",
    "    return resultats\n"
   ]
  },
  {
   "cell_type": "code",
   "execution_count": 44,
   "id": "ed016095",
   "metadata": {},
   "outputs": [
    {
     "name": "stdout",
     "output_type": "stream",
     "text": [
      "Table de multiplication de 3 :\n",
      "3 x 1 = 3\n",
      "3 x 2 = 6\n",
      "3 x 3 = 9\n",
      "3 x 4 = 12\n",
      "3 x 5 = 15\n",
      "3 x 6 = 18\n",
      "3 x 7 = 21\n",
      "3 x 8 = 24\n",
      "3 x 9 = 27\n",
      "3 x 10 = 30\n"
     ]
    },
    {
     "data": {
      "text/plain": [
       "[3, 6, 9, 12, 15, 18, 21, 24, 27, 30]"
      ]
     },
     "execution_count": 44,
     "metadata": {},
     "output_type": "execute_result"
    }
   ],
   "source": [
    "tabless(3)"
   ]
  },
  {
   "cell_type": "code",
   "execution_count": 45,
   "id": "3ff9fe9a",
   "metadata": {},
   "outputs": [
    {
     "name": "stdout",
     "output_type": "stream",
     "text": [
      "Table de multiplication de 2 :\n",
      "2 x 1 = 2\n",
      "2 x 2 = 4\n",
      "2 x 3 = 6\n",
      "2 x 4 = 8\n",
      "2 x 5 = 10\n",
      "2 x 6 = 12\n",
      "2 x 7 = 14\n",
      "2 x 8 = 16\n",
      "2 x 9 = 18\n",
      "2 x 10 = 20\n"
     ]
    }
   ],
   "source": [
    "tab2 = tabless(2)"
   ]
  },
  {
   "cell_type": "markdown",
   "id": "92d84b52",
   "metadata": {},
   "source": [
    "### Exercice 2 : Recherche d’élément"
   ]
  },
  {
   "cell_type": "code",
   "execution_count": 46,
   "id": "ccce3f84",
   "metadata": {},
   "outputs": [],
   "source": [
    "def contient(liste, valeur):\n",
    "    \"\"\"\n",
    "    Version manuelle : parcourt la liste et compare chaque élément à valeur.\n",
    "    \"\"\"\n",
    "    for element in liste:\n",
    "        if element == valeur:\n",
    "            return True    # On quitte dès qu'on a trouvé\n",
    "    return False           # Si on n'a rien trouvé\n"
   ]
  },
  {
   "cell_type": "code",
   "execution_count": 47,
   "id": "7a493bd2",
   "metadata": {},
   "outputs": [
    {
     "data": {
      "text/plain": [
       "True"
      ]
     },
     "execution_count": 47,
     "metadata": {},
     "output_type": "execute_result"
    }
   ],
   "source": [
    "contient([1, 2, 3, 5, 8], 3)"
   ]
  },
  {
   "cell_type": "code",
   "execution_count": 48,
   "id": "38b4dfb9",
   "metadata": {},
   "outputs": [
    {
     "data": {
      "text/plain": [
       "False"
      ]
     },
     "execution_count": 48,
     "metadata": {},
     "output_type": "execute_result"
    }
   ],
   "source": [
    "contient([1, 2, 3, 5, 8], 4)"
   ]
  }
 ],
 "metadata": {
  "kernelspec": {
   "display_name": "venv",
   "language": "python",
   "name": "python3"
  },
  "language_info": {
   "codemirror_mode": {
    "name": "ipython",
    "version": 3
   },
   "file_extension": ".py",
   "mimetype": "text/x-python",
   "name": "python",
   "nbconvert_exporter": "python",
   "pygments_lexer": "ipython3",
   "version": "3.11.9"
  }
 },
 "nbformat": 4,
 "nbformat_minor": 5
}
