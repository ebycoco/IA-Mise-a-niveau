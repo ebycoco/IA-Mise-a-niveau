{
 "cells": [
  {
   "cell_type": "markdown",
   "id": "72b71bae",
   "metadata": {},
   "source": [
    "# Types et opérations de base\n",
    "\n",
    "*Date : 2 août 2025*\n",
    "\n",
    "\n",
    "**Objectif** : maîtriser les types natifs Python et les opérations élémentaires."
   ]
  },
  {
   "cell_type": "code",
   "execution_count": 1,
   "id": "9677c1f5",
   "metadata": {},
   "outputs": [
    {
     "name": "stdout",
     "output_type": "stream",
     "text": [
      "25°C = 77.0°F\n"
     ]
    }
   ],
   "source": [
    "# Formule : F = C * 9/5 + 32\n",
    "C = 25\n",
    "F = C * 9/5 + 32\n",
    "print(f\"{C}°C = {F}°F\")\n"
   ]
  },
  {
   "cell_type": "code",
   "execution_count": 3,
   "id": "59d830b8",
   "metadata": {},
   "outputs": [
    {
     "name": "stdout",
     "output_type": "stream",
     "text": [
      "Bonjour, BROU YAO ERIC !\n"
     ]
    }
   ],
   "source": [
    "first_name=\"YAO ERIC\"\n",
    "last_name=\"BROU\"\n",
    "print(f\"Bonjour, {last_name} {first_name} !\")"
   ]
  },
  {
   "cell_type": "markdown",
   "id": "3bb09322",
   "metadata": {},
   "source": [
    "### correction"
   ]
  },
  {
   "cell_type": "code",
   "execution_count": 5,
   "id": "f5a262ea",
   "metadata": {},
   "outputs": [
    {
     "name": "stdout",
     "output_type": "stream",
     "text": [
      "Bonjour, YAO ERIC BROU !\n"
     ]
    }
   ],
   "source": [
    "first_name = \"YAO ERIC\"\n",
    "last_name  = \"BROU\"\n",
    "\n",
    "# 1. f-string (la plus lisible)\n",
    "print(f\"Bonjour, {first_name} {last_name} !\")\n",
    "\n",
    "\n"
   ]
  },
  {
   "cell_type": "code",
   "execution_count": 6,
   "id": "b6a1221a",
   "metadata": {},
   "outputs": [
    {
     "name": "stdout",
     "output_type": "stream",
     "text": [
      "Bonjour, YAO ERIC BROU !\n"
     ]
    }
   ],
   "source": [
    "# 2. str.format()\n",
    "print(\"Bonjour, {} {} !\".format(first_name, last_name))\n",
    "\n"
   ]
  },
  {
   "cell_type": "code",
   "execution_count": 7,
   "id": "19428df3",
   "metadata": {},
   "outputs": [
    {
     "name": "stdout",
     "output_type": "stream",
     "text": [
      "Bonjour, YAO ERIC BROU !\n"
     ]
    }
   ],
   "source": [
    "# 3. concaténation classique\n",
    "print(\"Bonjour, \" + first_name + \" \" + last_name + \" !\")"
   ]
  }
 ],
 "metadata": {
  "kernelspec": {
   "display_name": "venv",
   "language": "python",
   "name": "python3"
  },
  "language_info": {
   "codemirror_mode": {
    "name": "ipython",
    "version": 3
   },
   "file_extension": ".py",
   "mimetype": "text/x-python",
   "name": "python",
   "nbconvert_exporter": "python",
   "pygments_lexer": "ipython3",
   "version": "3.11.9"
  }
 },
 "nbformat": 4,
 "nbformat_minor": 5
}
