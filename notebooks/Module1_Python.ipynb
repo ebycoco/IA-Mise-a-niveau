{
 "cells": [
  {
   "cell_type": "markdown",
   "id": "72b71bae",
   "metadata": {},
   "source": [
    "# Types et opérations de base\n",
    "\n",
    "*Date : 2 août 2025*\n",
    "\n",
    "\n",
    "**Objectif** : maîtriser les types natifs Python et les opérations élémentaires."
   ]
  },
  {
   "cell_type": "code",
   "execution_count": 1,
   "id": "9677c1f5",
   "metadata": {},
   "outputs": [
    {
     "name": "stdout",
     "output_type": "stream",
     "text": [
      "25°C = 77.0°F\n"
     ]
    }
   ],
   "source": [
    "# Formule : F = C * 9/5 + 32\n",
    "C = 25\n",
    "F = C * 9/5 + 32\n",
    "print(f\"{C}°C = {F}°F\")\n"
   ]
  },
  {
   "cell_type": "code",
   "execution_count": 3,
   "id": "59d830b8",
   "metadata": {},
   "outputs": [
    {
     "name": "stdout",
     "output_type": "stream",
     "text": [
      "Bonjour, BROU YAO ERIC !\n"
     ]
    }
   ],
   "source": [
    "first_name=\"YAO ERIC\"\n",
    "last_name=\"BROU\"\n",
    "print(f\"Bonjour, {last_name} {first_name} !\")"
   ]
  },
  {
   "cell_type": "markdown",
   "id": "3bb09322",
   "metadata": {},
   "source": [
    "### correction"
   ]
  },
  {
   "cell_type": "code",
   "execution_count": 5,
   "id": "f5a262ea",
   "metadata": {},
   "outputs": [
    {
     "name": "stdout",
     "output_type": "stream",
     "text": [
      "Bonjour, YAO ERIC BROU !\n"
     ]
    }
   ],
   "source": [
    "first_name = \"YAO ERIC\"\n",
    "last_name  = \"BROU\"\n",
    "\n",
    "# 1. f-string (la plus lisible)\n",
    "print(f\"Bonjour, {first_name} {last_name} !\")\n",
    "\n",
    "\n"
   ]
  },
  {
   "cell_type": "code",
   "execution_count": 6,
   "id": "b6a1221a",
   "metadata": {},
   "outputs": [
    {
     "name": "stdout",
     "output_type": "stream",
     "text": [
      "Bonjour, YAO ERIC BROU !\n"
     ]
    }
   ],
   "source": [
    "# 2. str.format()\n",
    "print(\"Bonjour, {} {} !\".format(first_name, last_name))\n",
    "\n"
   ]
  },
  {
   "cell_type": "code",
   "execution_count": 7,
   "id": "19428df3",
   "metadata": {},
   "outputs": [
    {
     "name": "stdout",
     "output_type": "stream",
     "text": [
      "Bonjour, YAO ERIC BROU !\n"
     ]
    }
   ],
   "source": [
    "# 3. concaténation classique\n",
    "print(\"Bonjour, \" + first_name + \" \" + last_name + \" !\")"
   ]
  },
  {
   "cell_type": "markdown",
   "id": "b8027e78",
   "metadata": {},
   "source": [
    "# Structures de contrôle\n",
    "\n",
    "*Date : 3 août 2025*\n",
    "\n",
    "\n",
    "**Objectif** : maîtriser les instructions conditionnelles et les boucles."
   ]
  },
  {
   "cell_type": "markdown",
   "id": "8d0cb123",
   "metadata": {},
   "source": [
    "Instructions conditionnelles"
   ]
  },
  {
   "cell_type": "code",
   "execution_count": 14,
   "id": "5e1af633",
   "metadata": {},
   "outputs": [
    {
     "name": "stdout",
     "output_type": "stream",
     "text": [
      "x est positif\n"
     ]
    }
   ],
   "source": [
    "x = 5\n",
    "if x < 0:\n",
    "    print(\"x est négatif\")\n",
    "elif x == 0:\n",
    "    print(\"x est nul\")\n",
    "else:\n",
    "    print(\"x est positif\")\n"
   ]
  },
  {
   "cell_type": "code",
   "execution_count": 15,
   "id": "02fd5d13",
   "metadata": {},
   "outputs": [
    {
     "name": "stdout",
     "output_type": "stream",
     "text": [
      "x est nul\n"
     ]
    }
   ],
   "source": [
    "x = 0\n",
    "if x < 0:\n",
    "    print(\"x est négatif\")\n",
    "elif x == 0:\n",
    "    print(\"x est nul\")\n",
    "else:\n",
    "    print(\"x est positif\")\n"
   ]
  },
  {
   "cell_type": "code",
   "execution_count": 16,
   "id": "6e1dfe84",
   "metadata": {},
   "outputs": [
    {
     "name": "stdout",
     "output_type": "stream",
     "text": [
      "x est négatif\n"
     ]
    }
   ],
   "source": [
    "x = -5\n",
    "if x < 0:\n",
    "    print(\"x est négatif\")\n",
    "elif x == 0:\n",
    "    print(\"x est nul\")\n",
    "else:\n",
    "    print(\"x est positif\")\n"
   ]
  },
  {
   "cell_type": "markdown",
   "id": "bbf4b29b",
   "metadata": {},
   "source": [
    "Boucles while"
   ]
  },
  {
   "cell_type": "code",
   "execution_count": 17,
   "id": "b9d7008d",
   "metadata": {},
   "outputs": [
    {
     "name": "stdout",
     "output_type": "stream",
     "text": [
      "Il reste 3\n",
      "Il reste 2\n",
      "Il reste 1\n",
      "C’est fini !\n"
     ]
    }
   ],
   "source": [
    "compteur = 3\n",
    "while compteur > 0:\n",
    "    print(\"Il reste\", compteur)\n",
    "    compteur -= 1\n",
    "print(\"C’est fini !\")\n"
   ]
  },
  {
   "cell_type": "markdown",
   "id": "efa0f235",
   "metadata": {},
   "source": [
    "### Exercice 1 : Table de multiplication"
   ]
  },
  {
   "cell_type": "code",
   "execution_count": 28,
   "id": "ee253bd4",
   "metadata": {},
   "outputs": [],
   "source": [
    "def table(n):\n",
    "    print(f\"la table de {n}\")\n",
    "    t=1\n",
    "    while t <= 10:\n",
    "        p = n * t\n",
    "        print(f\"{n} x {t} = {p}\")\n",
    "        t +=1"
   ]
  },
  {
   "cell_type": "code",
   "execution_count": 29,
   "id": "b3776458",
   "metadata": {},
   "outputs": [
    {
     "name": "stdout",
     "output_type": "stream",
     "text": [
      "la table de 4\n",
      "4 x 1 = 4\n",
      "4 x 2 = 8\n",
      "4 x 3 = 12\n",
      "4 x 4 = 16\n",
      "4 x 5 = 20\n",
      "4 x 6 = 24\n",
      "4 x 7 = 28\n",
      "4 x 8 = 32\n",
      "4 x 9 = 36\n",
      "4 x 10 = 40\n"
     ]
    }
   ],
   "source": [
    "table(4)"
   ]
  },
  {
   "cell_type": "code",
   "execution_count": 30,
   "id": "413f2225",
   "metadata": {},
   "outputs": [
    {
     "name": "stdout",
     "output_type": "stream",
     "text": [
      "la table de 9\n",
      "9 x 1 = 9\n",
      "9 x 2 = 18\n",
      "9 x 3 = 27\n",
      "9 x 4 = 36\n",
      "9 x 5 = 45\n",
      "9 x 6 = 54\n",
      "9 x 7 = 63\n",
      "9 x 8 = 72\n",
      "9 x 9 = 81\n",
      "9 x 10 = 90\n"
     ]
    }
   ],
   "source": [
    "table(9)"
   ]
  },
  {
   "cell_type": "code",
   "execution_count": 31,
   "id": "dcd3d053",
   "metadata": {},
   "outputs": [
    {
     "name": "stdout",
     "output_type": "stream",
     "text": [
      "la table de 7\n",
      "7 x 1 = 7\n",
      "7 x 2 = 14\n",
      "7 x 3 = 21\n",
      "7 x 4 = 28\n",
      "7 x 5 = 35\n",
      "7 x 6 = 42\n",
      "7 x 7 = 49\n",
      "7 x 8 = 56\n",
      "7 x 9 = 63\n",
      "7 x 10 = 70\n"
     ]
    }
   ],
   "source": [
    "table(7)"
   ]
  },
  {
   "cell_type": "markdown",
   "id": "6258758c",
   "metadata": {},
   "source": [
    "#### Voici une version “corrigée” et améliorée de la fonction :"
   ]
  },
  {
   "cell_type": "code",
   "execution_count": 38,
   "id": "2d2ba85c",
   "metadata": {},
   "outputs": [],
   "source": [
    "def tables(n):\n",
    "    \"\"\"\n",
    "    Affiche la table de multiplication de n de 1 à 10.\n",
    "    \"\"\"\n",
    "    print(f\"Table de multiplication de {n} :\")\n",
    "    for i in range(1, 11):\n",
    "        produit = n * i\n",
    "        print(f\"{n} x {i} = {produit}\")\n"
   ]
  },
  {
   "cell_type": "code",
   "execution_count": 39,
   "id": "a5db3de2",
   "metadata": {},
   "outputs": [
    {
     "name": "stdout",
     "output_type": "stream",
     "text": [
      "Table de multiplication de 6 :\n",
      "6 x 1 = 6\n",
      "6 x 2 = 12\n",
      "6 x 3 = 18\n",
      "6 x 4 = 24\n",
      "6 x 5 = 30\n",
      "6 x 6 = 36\n",
      "6 x 7 = 42\n",
      "6 x 8 = 48\n",
      "6 x 9 = 54\n",
      "6 x 10 = 60\n"
     ]
    }
   ],
   "source": [
    "tables(6)"
   ]
  },
  {
   "cell_type": "code",
   "execution_count": 43,
   "id": "86e45a11",
   "metadata": {},
   "outputs": [],
   "source": [
    "def tabless(n):\n",
    "    \"\"\"\n",
    "    Construit et renvoie la liste de la table de multiplication de n de 1 à 10,\n",
    "    et l'affiche dans la console.\n",
    "    \"\"\"\n",
    "    resultats = []\n",
    "    print(f\"Table de multiplication de {n} :\")\n",
    "    for i in range(1, 11):\n",
    "        produit = n * i\n",
    "        resultats.append(produit)\n",
    "        print(f\"{n} x {i} = {produit}\")\n",
    "    return resultats\n"
   ]
  },
  {
   "cell_type": "code",
   "execution_count": 44,
   "id": "ed016095",
   "metadata": {},
   "outputs": [
    {
     "name": "stdout",
     "output_type": "stream",
     "text": [
      "Table de multiplication de 3 :\n",
      "3 x 1 = 3\n",
      "3 x 2 = 6\n",
      "3 x 3 = 9\n",
      "3 x 4 = 12\n",
      "3 x 5 = 15\n",
      "3 x 6 = 18\n",
      "3 x 7 = 21\n",
      "3 x 8 = 24\n",
      "3 x 9 = 27\n",
      "3 x 10 = 30\n"
     ]
    },
    {
     "data": {
      "text/plain": [
       "[3, 6, 9, 12, 15, 18, 21, 24, 27, 30]"
      ]
     },
     "execution_count": 44,
     "metadata": {},
     "output_type": "execute_result"
    }
   ],
   "source": [
    "tabless(3)"
   ]
  },
  {
   "cell_type": "code",
   "execution_count": 45,
   "id": "3ff9fe9a",
   "metadata": {},
   "outputs": [
    {
     "name": "stdout",
     "output_type": "stream",
     "text": [
      "Table de multiplication de 2 :\n",
      "2 x 1 = 2\n",
      "2 x 2 = 4\n",
      "2 x 3 = 6\n",
      "2 x 4 = 8\n",
      "2 x 5 = 10\n",
      "2 x 6 = 12\n",
      "2 x 7 = 14\n",
      "2 x 8 = 16\n",
      "2 x 9 = 18\n",
      "2 x 10 = 20\n"
     ]
    }
   ],
   "source": [
    "tab2 = tabless(2)"
   ]
  },
  {
   "cell_type": "markdown",
   "id": "92d84b52",
   "metadata": {},
   "source": [
    "### Exercice 2 : Recherche d’élément"
   ]
  },
  {
   "cell_type": "code",
   "execution_count": 46,
   "id": "ccce3f84",
   "metadata": {},
   "outputs": [],
   "source": [
    "def contient(liste, valeur):\n",
    "    \"\"\"\n",
    "    Version manuelle : parcourt la liste et compare chaque élément à valeur.\n",
    "    \"\"\"\n",
    "    for element in liste:\n",
    "        if element == valeur:\n",
    "            return True    # On quitte dès qu'on a trouvé\n",
    "    return False           # Si on n'a rien trouvé\n"
   ]
  },
  {
   "cell_type": "code",
   "execution_count": 47,
   "id": "7a493bd2",
   "metadata": {},
   "outputs": [
    {
     "data": {
      "text/plain": [
       "True"
      ]
     },
     "execution_count": 47,
     "metadata": {},
     "output_type": "execute_result"
    }
   ],
   "source": [
    "contient([1, 2, 3, 5, 8], 3)"
   ]
  },
  {
   "cell_type": "code",
   "execution_count": 48,
   "id": "38b4dfb9",
   "metadata": {},
   "outputs": [
    {
     "data": {
      "text/plain": [
       "False"
      ]
     },
     "execution_count": 48,
     "metadata": {},
     "output_type": "execute_result"
    }
   ],
   "source": [
    "contient([1, 2, 3, 5, 8], 4)"
   ]
  },
  {
   "cell_type": "markdown",
   "id": "7a3d0ecb",
   "metadata": {},
   "source": [
    "# Fonctions et modules\n",
    "\n",
    "*Date : 4 août 2025*\n",
    "\n",
    "\n",
    "**Objectif** : savoir définir et organiser son code en fonctions réutilisables et en modules Python."
   ]
  },
  {
   "cell_type": "code",
   "execution_count": null,
   "id": "2fe45015",
   "metadata": {},
   "outputs": [],
   "source": [
    "def carre(x):\n",
    "    \"\"\"Renvoie le carré de x.\"\"\"\n",
    "    return x * x\n",
    "\n",
    "def saluer(nom, message=\"Bonjour\"):\n",
    "    \"\"\"\n",
    "    Affiche un message de salutation personnalisé.\n",
    "    nom : str, nom de la personne.\n",
    "    message : str, préfixe de salutation.\n",
    "    \"\"\"\n",
    "    return f\"{message}, {nom} !\"\n"
   ]
  },
  {
   "cell_type": "code",
   "execution_count": null,
   "id": "81caed13",
   "metadata": {},
   "outputs": [
    {
     "data": {
      "text/plain": [
       "16"
      ]
     },
     "execution_count": 51,
     "metadata": {},
     "output_type": "execute_result"
    }
   ],
   "source": [
    "carre(4)"
   ]
  },
  {
   "cell_type": "code",
   "execution_count": null,
   "id": "f511c0d9",
   "metadata": {},
   "outputs": [
    {
     "data": {
      "text/plain": [
       "'Bonjour, BROU YAO ERIC !'"
      ]
     },
     "execution_count": 53,
     "metadata": {},
     "output_type": "execute_result"
    }
   ],
   "source": [
    "saluer(\"BROU YAO ERIC\")"
   ]
  },
  {
   "cell_type": "code",
   "execution_count": null,
   "id": "a262bedf",
   "metadata": {},
   "outputs": [
    {
     "name": "stdout",
     "output_type": "stream",
     "text": [
      "8\n"
     ]
    }
   ],
   "source": [
    "def puissance(base, exposant):\n",
    "    return base ** exposant\n",
    "\n",
    "# Appel positionnel\n",
    "print(puissance(2, 3))  \n",
    "\n"
   ]
  },
  {
   "cell_type": "code",
   "execution_count": null,
   "id": "a40b83b5",
   "metadata": {},
   "outputs": [
    {
     "data": {
      "text/plain": [
       "16"
      ]
     },
     "execution_count": 55,
     "metadata": {},
     "output_type": "execute_result"
    }
   ],
   "source": [
    "puissance(4,2)"
   ]
  },
  {
   "cell_type": "code",
   "execution_count": null,
   "id": "9142e179",
   "metadata": {},
   "outputs": [
    {
     "name": "stdout",
     "output_type": "stream",
     "text": [
      "16\n"
     ]
    }
   ],
   "source": [
    "# Appel nommé\n",
    "print(puissance(exposant=2, base=4))"
   ]
  },
  {
   "cell_type": "code",
   "execution_count": null,
   "id": "2893b1f4",
   "metadata": {},
   "outputs": [],
   "source": [
    "def div_mod(a, b):\n",
    "    \"\"\"Renvoie (quotient, reste) de la division entière a // b.\"\"\"\n",
    "    return a // b, a % b\n",
    "\n",
    "\n"
   ]
  },
  {
   "cell_type": "code",
   "execution_count": 73,
   "id": "b2d58f92",
   "metadata": {},
   "outputs": [
    {
     "name": "stdout",
     "output_type": "stream",
     "text": [
      "5 2\n"
     ]
    }
   ],
   "source": [
    "q, r = div_mod(27, 5)\n",
    "print(q, r)"
   ]
  },
  {
   "cell_type": "code",
   "execution_count": 89,
   "id": "0a9fcf58",
   "metadata": {},
   "outputs": [
    {
     "name": "stdout",
     "output_type": "stream",
     "text": [
      "49\n",
      "Salut, Alice !\n"
     ]
    }
   ],
   "source": [
    "import sys, os\n",
    "# ajoute le dossier parent (IA-Mise-a-niveau/) au chemin d’import\n",
    "sys.path.append(os.path.abspath('..'))\n",
    "from mymodule import carres, saluers\n",
    "\n",
    "print(carres(7))\n",
    "print(saluers(\"Alice\", message=\"Salut\"))\n"
   ]
  },
  {
   "cell_type": "code",
   "execution_count": 90,
   "id": "0bfea52f",
   "metadata": {},
   "outputs": [],
   "source": [
    "def maximum3(a, b, c):\n",
    "    \"\"\"\n",
    "    Renvoie le plus grand des trois nombres a, b et c.\n",
    "    \"\"\"\n",
    "    # Compare d’abord a et b\n",
    "    if a >= b:\n",
    "        plus_grand_ab = a\n",
    "    else:\n",
    "        plus_grand_ab = b\n",
    "\n",
    "    # Compare ensuite le plus grand de (a, b) avec c\n",
    "    if plus_grand_ab >= c:\n",
    "        return plus_grand_ab\n",
    "    else:\n",
    "        return c\n"
   ]
  },
  {
   "cell_type": "code",
   "execution_count": 92,
   "id": "113db0e0",
   "metadata": {},
   "outputs": [
    {
     "name": "stdout",
     "output_type": "stream",
     "text": [
      "82\n"
     ]
    }
   ],
   "source": [
    "print(maximum3(5, 82, 9)) "
   ]
  },
  {
   "cell_type": "code",
   "execution_count": 94,
   "id": "fa7bb15b",
   "metadata": {},
   "outputs": [],
   "source": [
    "def fibonacci(n):\n",
    "    \"\"\"\n",
    "    Renvoie le nième terme (0-indexé) de la suite de Fibonacci :\n",
    "      fibonacci(0) = 0\n",
    "      fibonacci(1) = 1\n",
    "    pour n >= 2 :\n",
    "      fibonacci(n) = fibonacci(n-1) + fibonacci(n-2)\n",
    "\n",
    "    Paramètres\n",
    "    ----------\n",
    "    n : int\n",
    "        Indice du terme de Fibonacci à calculer. Doit être un entier >= 0.\n",
    "\n",
    "    Retour\n",
    "    ------\n",
    "    int\n",
    "        Le nième nombre de Fibonacci.\n",
    "\n",
    "    Exceptions\n",
    "    ----------\n",
    "    ValueError\n",
    "        Si n est négatif ou non entier.\n",
    "    \"\"\"\n",
    "    # Vérification de validité de l’argument\n",
    "    if not isinstance(n, int) or n < 0:\n",
    "        raise ValueError(\"n doit être un entier naturel (>= 0)\")\n",
    "\n",
    "    # Cas de base\n",
    "    if n == 0:\n",
    "        return 0\n",
    "    if n == 1:\n",
    "        return 1\n",
    "\n",
    "    # Variables pour stocker les deux derniers termes\n",
    "    a, b = 0, 1  # a = F(0), b = F(1)\n",
    "\n",
    "    # Itération de 2 jusqu’à n\n",
    "    for _ in range(2, n + 1):\n",
    "        # Calcule le terme suivant et décale\n",
    "        a, b = b, a + b\n",
    "        # Maintenant a = F(i-1), b = F(i)\n",
    "\n",
    "    return b\n"
   ]
  },
  {
   "cell_type": "code",
   "execution_count": 100,
   "id": "a26c68e0",
   "metadata": {},
   "outputs": [
    {
     "name": "stdout",
     "output_type": "stream",
     "text": [
      "F(0) = 0\n",
      "F(1) = 1\n",
      "F(2) = 1\n",
      "F(3) = 2\n",
      "F(4) = 3\n",
      "F(5) = 5\n",
      "F(6) = 8\n",
      "F(7) = 13\n",
      "F(8) = 21\n",
      "F(9) = 34\n"
     ]
    }
   ],
   "source": [
    "for i in range(10):\n",
    "    print(f\"F({i}) = {fibonacci(i)}\")\n"
   ]
  },
  {
   "cell_type": "markdown",
   "id": "c0c546eb",
   "metadata": {},
   "source": [
    "# Listes, tuples, dictionnaires et ensembles (sets)\n",
    "\n",
    "*Date : 5 août 2025*\n",
    "\n",
    "\n",
    "**Objectif** : maîtriser les principales structures de données natives en Python et leurs utilisations courantes."
   ]
  },
  {
   "cell_type": "markdown",
   "id": "5d18f800",
   "metadata": {},
   "source": [
    "**Listes**"
   ]
  },
  {
   "cell_type": "code",
   "execution_count": 112,
   "id": "cea8b61c",
   "metadata": {},
   "outputs": [],
   "source": [
    "# comment creer une liste\n",
    "nombres = [1, 2, 3, 4, 5]"
   ]
  },
  {
   "cell_type": "code",
   "execution_count": 113,
   "id": "e58c4ac1",
   "metadata": {},
   "outputs": [
    {
     "data": {
      "text/plain": [
       "1"
      ]
     },
     "execution_count": 113,
     "metadata": {},
     "output_type": "execute_result"
    }
   ],
   "source": [
    "#Accéder à un élément par index\n",
    "nombres[0]"
   ]
  },
  {
   "cell_type": "code",
   "execution_count": 114,
   "id": "200afac4",
   "metadata": {},
   "outputs": [
    {
     "data": {
      "text/plain": [
       "5"
      ]
     },
     "execution_count": 114,
     "metadata": {},
     "output_type": "execute_result"
    }
   ],
   "source": [
    "nombres[-1]"
   ]
  },
  {
   "cell_type": "code",
   "execution_count": 115,
   "id": "268421d6",
   "metadata": {},
   "outputs": [
    {
     "data": {
      "text/plain": [
       "[1, 2, 3, 4, 5]"
      ]
     },
     "execution_count": 115,
     "metadata": {},
     "output_type": "execute_result"
    }
   ],
   "source": [
    "nombres"
   ]
  },
  {
   "cell_type": "code",
   "execution_count": 116,
   "id": "9e1296d8",
   "metadata": {},
   "outputs": [],
   "source": [
    "#Modifier un élément\n",
    "nombres[2] = 10"
   ]
  },
  {
   "cell_type": "code",
   "execution_count": 117,
   "id": "8971cc6a",
   "metadata": {},
   "outputs": [
    {
     "data": {
      "text/plain": [
       "[1, 2, 10, 4, 5]"
      ]
     },
     "execution_count": 117,
     "metadata": {},
     "output_type": "execute_result"
    }
   ],
   "source": [
    "nombres"
   ]
  },
  {
   "cell_type": "markdown",
   "id": "2cf9a185",
   "metadata": {},
   "source": [
    "**Ajouter** (append, insert) et supprimer (pop, remove)."
   ]
  },
  {
   "cell_type": "code",
   "execution_count": 118,
   "id": "76b7074c",
   "metadata": {},
   "outputs": [
    {
     "data": {
      "text/plain": [
       "[1, 2, 10, 4, 5, 30]"
      ]
     },
     "execution_count": 118,
     "metadata": {},
     "output_type": "execute_result"
    }
   ],
   "source": [
    "nombres.append(30)\n",
    "nombres"
   ]
  },
  {
   "cell_type": "code",
   "execution_count": 119,
   "id": "5e272f0b",
   "metadata": {},
   "outputs": [
    {
     "data": {
      "text/plain": [
       "[1, 2, 89, 10, 4, 5, 30]"
      ]
     },
     "execution_count": 119,
     "metadata": {},
     "output_type": "execute_result"
    }
   ],
   "source": [
    "nombres.insert(2,89)\n",
    "nombres"
   ]
  },
  {
   "cell_type": "code",
   "execution_count": 120,
   "id": "67bc6790",
   "metadata": {},
   "outputs": [
    {
     "data": {
      "text/plain": [
       "[2, 89, 10, 4, 5, 30]"
      ]
     },
     "execution_count": 120,
     "metadata": {},
     "output_type": "execute_result"
    }
   ],
   "source": [
    "nombres.pop(0)\n",
    "nombres"
   ]
  },
  {
   "cell_type": "code",
   "execution_count": 121,
   "id": "a2e77145",
   "metadata": {},
   "outputs": [
    {
     "data": {
      "text/plain": [
       "[2, 89, 10, 4, 5]"
      ]
     },
     "execution_count": 121,
     "metadata": {},
     "output_type": "execute_result"
    }
   ],
   "source": [
    "nombres.remove(30)\n",
    "nombres"
   ]
  },
  {
   "cell_type": "markdown",
   "id": "1ba0f8ac",
   "metadata": {},
   "source": [
    "**Trier** (sort) et inverser (reverse)."
   ]
  },
  {
   "cell_type": "code",
   "execution_count": 122,
   "id": "aeaa2342",
   "metadata": {},
   "outputs": [
    {
     "data": {
      "text/plain": [
       "[2, 4, 5, 10, 89]"
      ]
     },
     "execution_count": 122,
     "metadata": {},
     "output_type": "execute_result"
    }
   ],
   "source": [
    "nombres.sort()\n",
    "nombres"
   ]
  },
  {
   "cell_type": "code",
   "execution_count": 123,
   "id": "9ad01fa1",
   "metadata": {},
   "outputs": [
    {
     "data": {
      "text/plain": [
       "[89, 10, 5, 4, 2]"
      ]
     },
     "execution_count": 123,
     "metadata": {},
     "output_type": "execute_result"
    }
   ],
   "source": [
    "nombres.reverse()\n",
    "nombres"
   ]
  },
  {
   "cell_type": "markdown",
   "id": "9f0c20e2",
   "metadata": {},
   "source": [
    "**Exercice** : à partir de nombres, construis la liste des carrés [1, 4, 9, …] avec une compréhension de liste."
   ]
  },
  {
   "cell_type": "code",
   "execution_count": 124,
   "id": "3dfc7ae4",
   "metadata": {},
   "outputs": [
    {
     "name": "stdout",
     "output_type": "stream",
     "text": [
      "[7921, 100, 25, 16, 4]\n"
     ]
    }
   ],
   "source": [
    "# Compréhension de liste (list comprehension)\n",
    "carrés = [x*x for x in nombres]\n",
    "print(carrés)   "
   ]
  },
  {
   "cell_type": "markdown",
   "id": "b2e4b37f",
   "metadata": {},
   "source": [
    "**Les tuples**"
   ]
  },
  {
   "cell_type": "code",
   "execution_count": 125,
   "id": "073aaffc",
   "metadata": {},
   "outputs": [
    {
     "name": "stdout",
     "output_type": "stream",
     "text": [
      "(10.0, 20.0)\n"
     ]
    }
   ],
   "source": [
    "# Création\n",
    "coord = (10.0, 20.0)\n",
    "print(coord) "
   ]
  },
  {
   "cell_type": "code",
   "execution_count": 126,
   "id": "20df427e",
   "metadata": {},
   "outputs": [
    {
     "name": "stdout",
     "output_type": "stream",
     "text": [
      "'tuple' object does not support item assignment\n"
     ]
    }
   ],
   "source": [
    "# Immutabilité\n",
    "try:\n",
    "    coord[0] = 5\n",
    "except TypeError as e:\n",
    "    print(e)   "
   ]
  },
  {
   "cell_type": "code",
   "execution_count": 127,
   "id": "590ace0e",
   "metadata": {},
   "outputs": [
    {
     "name": "stdout",
     "output_type": "stream",
     "text": [
      "x = 10.0, y = 20.0\n"
     ]
    }
   ],
   "source": [
    "# Déballage (unpacking)\n",
    "x, y = coord\n",
    "print(f\"x = {x}, y = {y}\") "
   ]
  },
  {
   "cell_type": "markdown",
   "id": "b1491a5f",
   "metadata": {},
   "source": [
    "**Les dictionnaires**"
   ]
  },
  {
   "cell_type": "code",
   "execution_count": 128,
   "id": "3b5914ea",
   "metadata": {},
   "outputs": [
    {
     "name": "stdout",
     "output_type": "stream",
     "text": [
      "{'nom': 'Alice', 'age': 30}\n"
     ]
    }
   ],
   "source": [
    "# Création\n",
    "personne = {\"nom\": \"Alice\", \"age\": 30}\n",
    "print(personne)   "
   ]
  },
  {
   "cell_type": "code",
   "execution_count": 129,
   "id": "8578a0a0",
   "metadata": {},
   "outputs": [
    {
     "name": "stdout",
     "output_type": "stream",
     "text": [
      "Alice\n",
      "{'nom': 'Alice', 'age': 31, 'ville': 'Paris'}\n"
     ]
    }
   ],
   "source": [
    "# Accès / ajout / modification\n",
    "print(personne[\"nom\"])       # Alice\n",
    "personne[\"ville\"] = \"Paris\"  # ajout\n",
    "personne[\"age\"] = 31         # modification\n",
    "print(personne) "
   ]
  },
  {
   "cell_type": "code",
   "execution_count": 130,
   "id": "25cb9ab4",
   "metadata": {},
   "outputs": [
    {
     "name": "stdout",
     "output_type": "stream",
     "text": [
      "None {'nom': 'Alice', 'ville': 'Paris'}\n"
     ]
    }
   ],
   "source": [
    "# Suppression\n",
    "del personne[\"age\"]\n",
    "age = personne.pop(\"age\", None)  # renvoie la valeur ou None si pas de clé\n",
    "print(age, personne)  "
   ]
  },
  {
   "cell_type": "code",
   "execution_count": 131,
   "id": "b3b8d8a6",
   "metadata": {},
   "outputs": [
    {
     "name": "stdout",
     "output_type": "stream",
     "text": [
      "nom ➔ Alice\n",
      "ville ➔ Paris\n"
     ]
    }
   ],
   "source": [
    "# Itération\n",
    "for cle, valeur in personne.items():\n",
    "    print(f\"{cle} ➔ {valeur}\")"
   ]
  },
  {
   "cell_type": "markdown",
   "id": "640a51a7",
   "metadata": {},
   "source": [
    "**Les ensembles (set)**"
   ]
  },
  {
   "cell_type": "code",
   "execution_count": 132,
   "id": "382416a2",
   "metadata": {},
   "outputs": [
    {
     "name": "stdout",
     "output_type": "stream",
     "text": [
      "{1, 2, 3}\n"
     ]
    }
   ],
   "source": [
    "# Création et élimination des doublons\n",
    "s = {1, 2, 3, 2, 1}\n",
    "print(s)  "
   ]
  },
  {
   "cell_type": "code",
   "execution_count": 133,
   "id": "7eb4ef48",
   "metadata": {},
   "outputs": [
    {
     "name": "stdout",
     "output_type": "stream",
     "text": [
      "{1, 2, 3, 4}\n",
      "{2, 3}\n",
      "{1}\n"
     ]
    }
   ],
   "source": [
    "# Opérations ensemblistes\n",
    "A = {1, 2, 3}\n",
    "B = {2, 3, 4}\n",
    "print(A | B)  # union       -> {1,2,3,4}\n",
    "print(A & B)  # intersection-> {2,3}\n",
    "print(A - B)  # différence  -> {1}"
   ]
  },
  {
   "cell_type": "code",
   "execution_count": 134,
   "id": "9b0e1138",
   "metadata": {},
   "outputs": [
    {
     "name": "stdout",
     "output_type": "stream",
     "text": [
      "{1, 3, 4}\n"
     ]
    }
   ],
   "source": [
    "# Ajout / suppression\n",
    "s.add(4)\n",
    "s.remove(2)\n",
    "print(s)  "
   ]
  },
  {
   "cell_type": "markdown",
   "id": "57ffa191",
   "metadata": {},
   "source": [
    "**Mini-projet : analyse de mots**"
   ]
  },
  {
   "cell_type": "code",
   "execution_count": 135,
   "id": "317f7e78",
   "metadata": {},
   "outputs": [],
   "source": [
    "texte = \"Python est puissant et simple. Python est facile à apprendre.\"\n"
   ]
  },
  {
   "cell_type": "code",
   "execution_count": 136,
   "id": "df083814",
   "metadata": {},
   "outputs": [
    {
     "name": "stdout",
     "output_type": "stream",
     "text": [
      "{'puissant', 'apprendre', 'est', 'simple', 'facile', 'python', 'et', 'à'}\n"
     ]
    }
   ],
   "source": [
    "import string\n",
    "\n",
    "# Mettre en minuscules et enlever la ponctuation\n",
    "mots = texte.lower().translate(str.maketrans(\"\", \"\", string.punctuation)).split()\n",
    "mots_uniques = set(mots)\n",
    "print(mots_uniques)\n",
    "# {'python','est','puissant','et','simple','facile','à','apprendre'}\n"
   ]
  },
  {
   "cell_type": "code",
   "execution_count": 137,
   "id": "7dcab9d9",
   "metadata": {},
   "outputs": [
    {
     "name": "stdout",
     "output_type": "stream",
     "text": [
      "{'python': 2, 'est': 2, 'puissant': 1, 'et': 1, 'simple': 1, 'facile': 1, 'à': 1, 'apprendre': 1}\n"
     ]
    }
   ],
   "source": [
    "freq = {}\n",
    "for mot in mots:\n",
    "    freq[mot] = freq.get(mot, 0) + 1\n",
    "print(freq)\n",
    "# {'python': 2, 'est': 2, 'puissant': 1, 'et': 1, \n",
    "#  'simple': 1, 'facile': 1, 'à': 1, 'apprendre': 1}\n"
   ]
  },
  {
   "cell_type": "code",
   "execution_count": 138,
   "id": "7ccc146e",
   "metadata": {},
   "outputs": [
    {
     "name": "stdout",
     "output_type": "stream",
     "text": [
      "python ➔ 2\n",
      "est ➔ 2\n",
      "puissant ➔ 1\n",
      "et ➔ 1\n",
      "simple ➔ 1\n",
      "facile ➔ 1\n",
      "à ➔ 1\n",
      "apprendre ➔ 1\n"
     ]
    }
   ],
   "source": [
    "classement = sorted(freq.items(), key=lambda paire: paire[1], reverse=True)\n",
    "for mot, compte in classement:\n",
    "    print(f\"{mot} ➔ {compte}\")\n",
    "# python ➔ 2\n",
    "# est ➔ 2\n",
    "# puissant ➔ 1\n",
    "# ... etc.\n"
   ]
  },
  {
   "cell_type": "markdown",
   "id": "03a58a69",
   "metadata": {},
   "source": [
    "# Fichiers et exceptions\n",
    "\n",
    "*Date : 6 août 2025*\n",
    "\n",
    "\n",
    "**Objectif** : apprendre à lire et écrire des fichiers, et gérer proprement les erreurs."
   ]
  },
  {
   "cell_type": "code",
   "execution_count": 140,
   "id": "9e3719f8",
   "metadata": {},
   "outputs": [
    {
     "name": "stdout",
     "output_type": "stream",
     "text": [
      "d:\\IA-Mise-a-niveau\\notebooks\n"
     ]
    }
   ],
   "source": [
    "import os\n",
    "print(os.getcwd())\n"
   ]
  },
  {
   "cell_type": "code",
   "execution_count": 141,
   "id": "127be9fb",
   "metadata": {},
   "outputs": [
    {
     "name": "stdout",
     "output_type": "stream",
     "text": [
      "['Alice,25\\n', 'Bob,30\\n', 'Charlie,22\\n']\n"
     ]
    }
   ],
   "source": [
    "with open(\"../data.txt\", \"r\", encoding=\"utf-8\") as f:\n",
    "    lignes = f.readlines()\n",
    "print(lignes)\n"
   ]
  },
  {
   "cell_type": "code",
   "execution_count": 142,
   "id": "d4940c3e",
   "metadata": {},
   "outputs": [],
   "source": [
    "noms = [\"Alice\", \"Bob\", \"Charlie\"]\n",
    "with open(\"../output.txt\", \"w\", encoding=\"utf-8\") as f:\n",
    "    for nom in noms:\n",
    "        f.write(nom + \"\\n\")\n"
   ]
  },
  {
   "cell_type": "code",
   "execution_count": 143,
   "id": "477d8026",
   "metadata": {},
   "outputs": [
    {
     "name": "stdout",
     "output_type": "stream",
     "text": [
      "[{'nom': 'Alice', 'age': 25}, {'nom': 'Bob', 'age': 30}, {'nom': 'Charlie', 'age': 22}]\n"
     ]
    }
   ],
   "source": [
    "import csv\n",
    "\n",
    "personnes = []\n",
    "with open(\"../data.txt\", newline=\"\", encoding=\"utf-8\") as csvfile:\n",
    "    reader = csv.reader(csvfile)\n",
    "    for row in reader:\n",
    "        # row est une liste de chaînes, ex. ['Alice', '25']\n",
    "        personnes.append({\"nom\": row[0], \"age\": int(row[1])})\n",
    "print(personnes)\n"
   ]
  },
  {
   "cell_type": "code",
   "execution_count": 144,
   "id": "27d0d12c",
   "metadata": {},
   "outputs": [],
   "source": [
    "with open(\"../resultats.csv\", \"w\", newline=\"\", encoding=\"utf-8\") as csvfile:\n",
    "    fieldnames = [\"nom\", \"age\"]\n",
    "    writer = csv.DictWriter(csvfile, fieldnames=fieldnames)\n",
    "    writer.writeheader()\n",
    "    for pers in personnes:\n",
    "        writer.writerow(pers)\n"
   ]
  },
  {
   "cell_type": "code",
   "execution_count": 145,
   "id": "f3895bfe",
   "metadata": {},
   "outputs": [
    {
     "name": "stdout",
     "output_type": "stream",
     "text": [
      "Fichier non trouvé : [Errno 2] No such file or directory: '../inexistant.txt'\n",
      "Bloc finally exécuté quoi qu’il arrive\n"
     ]
    }
   ],
   "source": [
    "try:\n",
    "    # code susceptible de lever une exception\n",
    "    with open(\"../inexistant.txt\") as f:\n",
    "        contenu = f.read()\n",
    "except FileNotFoundError as e:\n",
    "    print(\"Fichier non trouvé :\", e)\n",
    "except Exception as e:\n",
    "    print(\"Erreur inattendue :\", e)\n",
    "else:\n",
    "    print(\"Lecture réussie\")\n",
    "finally:\n",
    "    print(\"Bloc finally exécuté quoi qu’il arrive\")\n"
   ]
  },
  {
   "cell_type": "code",
   "execution_count": 147,
   "id": "d82b8f5e",
   "metadata": {},
   "outputs": [
    {
     "name": "stdout",
     "output_type": "stream",
     "text": [
      "Stylo: CA = 12.0\n",
      "Cahier: CA = 12.5\n",
      "Gomme: CA = 16.0\n"
     ]
    }
   ],
   "source": [
    "import csv\n",
    "\n",
    "# --- 1. Lecture du fichier ventes.csv et calcul du chiffre d'affaires ---\n",
    "ventes = []\n",
    "with open(\"ventes.csv\", newline=\"\", encoding=\"utf-8\") as csvfile:\n",
    "    reader = csv.DictReader(csvfile)  # lit la première ligne comme header\n",
    "    for row in reader:\n",
    "        # row[\"quantite\"] et row[\"prix_unitaire\"] sont des chaînes : on les convertit\n",
    "        quantite = int(row[\"quantite\"])\n",
    "        prix_unitaire = float(row[\"prix_unitaire\"])\n",
    "        ca = quantite * prix_unitaire\n",
    "        # on crée un nouvel enregistrement avec le CA calculé\n",
    "        ventes.append({\n",
    "            \"produit\": row[\"produit\"],\n",
    "            \"quantite\": quantite,\n",
    "            \"prix_unitaire\": prix_unitaire,\n",
    "            \"ca\": ca\n",
    "        })\n",
    "\n",
    "# --- 2. Écriture du résultat dans ca.csv ---\n",
    "with open(\"ca.csv\", \"w\", newline=\"\", encoding=\"utf-8\") as csvfile:\n",
    "    fieldnames = [\"produit\", \"quantite\", \"prix_unitaire\", \"ca\"]\n",
    "    writer = csv.DictWriter(csvfile, fieldnames=fieldnames)\n",
    "    writer.writeheader()\n",
    "    for record in ventes:\n",
    "        writer.writerow(record)\n",
    "\n",
    "# --- 3. Vérification dans le notebook (facultatif) ---\n",
    "for record in ventes:\n",
    "    print(f\"{record['produit']}: CA = {record['ca']}\")\n"
   ]
  },
  {
   "cell_type": "markdown",
   "id": "79695177",
   "metadata": {},
   "source": [
    "# Mini-projet « Gestion de stocks »\n",
    "\n",
    "## Contexte et objectifs\n",
    "\n",
    "L’objectif de ce mini-projet est de mettre en pratique les notions de :\n",
    "\n",
    "- Classes et modules Python  \n",
    "- Fonctions CRUD (Create, Read, Update, Delete)  \n",
    "- Lecture et écriture de fichiers CSV  \n",
    "- Structures de données (`list`, `dict`)  \n",
    "\n",
    "À la fin, vous disposerez d’un petit système d’inventaire capable de charger, modifier puis sauvegarder un stock de produits.\n",
    "\n",
    "---\n",
    "## Structure du projet\n",
    "\n",
    "IA-Mise-a-niveau/\n",
    "\n",
    "├── inventaire_initial.csv\n",
    "\n",
    "├── inventaire_final.csv # généré par le script\n",
    "\n",
    "├── stock.py # définition des classes Produit et Inventaire\n",
    "\n",
    "└── main.py # script de démonstration\n",
    "\n",
    "\n",
    "---\n",
    "\n",
    "## 1. Fichier CSV d’exemple\n",
    "\n",
    "Créez un fichier `inventaire_initial.csv` à la racine du projet :\n",
    "\n",
    "```csv\n",
    "nom,quantite,prix_unitaire\n",
    "Cahier,10,2.5\n",
    "Gomme,15,0.8\n",
    "Carnet,5,3.0\n"
   ]
  }
 ],
 "metadata": {
  "kernelspec": {
   "display_name": "venv",
   "language": "python",
   "name": "python3"
  },
  "language_info": {
   "codemirror_mode": {
    "name": "ipython",
    "version": 3
   },
   "file_extension": ".py",
   "mimetype": "text/x-python",
   "name": "python",
   "nbconvert_exporter": "python",
   "pygments_lexer": "ipython3",
   "version": "3.11.9"
  }
 },
 "nbformat": 4,
 "nbformat_minor": 5
}
