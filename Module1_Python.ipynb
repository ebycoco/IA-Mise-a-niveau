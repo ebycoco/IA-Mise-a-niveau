{
 "cells": [
  {
   "cell_type": "markdown",
   "id": "4bd0635d-3d69-42e6-ba18-1a0f8f891036",
   "metadata": {},
   "source": [
    "# Module 1 – Bases Python\n",
    "\n",
    "*Date : 1er août 2025*\n",
    "\n",
    "**Objectif** : maîtriser la syntaxe Python de base et se familiariser avec Jupyter Notebook.\n"
   ]
  },
  {
   "cell_type": "code",
   "execution_count": 1,
   "id": "ea464fec-823e-4532-bd62-efc3e96559fc",
   "metadata": {},
   "outputs": [
    {
     "name": "stdout",
     "output_type": "stream",
     "text": [
      "Python version : 3.11.9 (tags/v3.11.9:de54cf5, Apr  2 2024, 10:12:12) [MSC v.1938 64 bit (AMD64)]\n"
     ]
    }
   ],
   "source": [
    "# Vérifions la version de Python et l'environnement\n",
    "import sys\n",
    "print(\"Python version :\", sys.version)\n"
   ]
  },
  {
   "cell_type": "code",
   "execution_count": 2,
   "id": "d4510621-2833-4b7a-8b2a-d40aaca323e2",
   "metadata": {},
   "outputs": [
    {
     "name": "stdout",
     "output_type": "stream",
     "text": [
      "0 °C → 32.0 °F\n",
      "20 °C → 68.0 °F\n",
      "37 °C → 98.6 °F\n",
      "100 °C → 212.0 °F\n"
     ]
    }
   ],
   "source": [
    "def celsius_to_fahrenheit(c):\n",
    "    \"\"\"Convertit une température de Celsius en Fahrenheit.\"\"\"\n",
    "    return (c * 9/5) + 32\n",
    "\n",
    "# Exemple\n",
    "for temp_c in [0, 20, 37, 100]:\n",
    "    print(f\"{temp_c} °C → {celsius_to_fahrenheit(temp_c)} °F\")\n"
   ]
  },
  {
   "cell_type": "code",
   "execution_count": null,
   "id": "6ba89b09-0f35-4024-b686-f5d8b1786baf",
   "metadata": {},
   "outputs": [],
   "source": []
  }
 ],
 "metadata": {
  "kernelspec": {
   "display_name": "Python 3 (ipykernel)",
   "language": "python",
   "name": "python3"
  },
  "language_info": {
   "codemirror_mode": {
    "name": "ipython",
    "version": 3
   },
   "file_extension": ".py",
   "mimetype": "text/x-python",
   "name": "python",
   "nbconvert_exporter": "python",
   "pygments_lexer": "ipython3",
   "version": "3.11.9"
  }
 },
 "nbformat": 4,
 "nbformat_minor": 5
}
